{
 "cells": [
  {
   "cell_type": "markdown",
   "id": "65644846",
   "metadata": {},
   "source": [
    "# GETTING TO THE RIGHT DIRECTORY"
   ]
  },
  {
   "cell_type": "code",
   "execution_count": 2,
   "id": "414ac52e",
   "metadata": {
    "scrolled": true
   },
   "outputs": [
    {
     "name": "stdout",
     "output_type": "stream",
     "text": [
      "D:\\Personal\\Resume\\Resumes - different tracks\\General\\cover letter - ATS friendly project\n"
     ]
    }
   ],
   "source": [
    "##mypath = %cd D:\\Personal\\Resume\\Resumes - different tracks\\General\\cover letter - ATS friendly project\n",
    "mypath = %cd  D:\\Personal\\Resume\\Resumes - different tracks\\General\\cover letter - ATS friendly project"
   ]
  },
  {
   "cell_type": "code",
   "execution_count": 2,
   "id": "dd337b75",
   "metadata": {},
   "outputs": [],
   "source": [
    "#pip install PyPDF2"
   ]
  },
  {
   "cell_type": "markdown",
   "id": "972e59b2",
   "metadata": {},
   "source": [
    "# Get the files with*.pdf extension from the folder"
   ]
  },
  {
   "cell_type": "code",
   "execution_count": 3,
   "id": "8b65383f",
   "metadata": {},
   "outputs": [
    {
     "data": {
      "text/plain": [
       "['Cover Letter - Nitesh Kumar.pdf']"
      ]
     },
     "execution_count": 3,
     "metadata": {},
     "output_type": "execute_result"
    }
   ],
   "source": [
    "import os \n",
    "\n",
    "l = []\n",
    "for File in os.listdir(\".\"): \n",
    "    if File.endswith(\".pdf\"): \n",
    "        l.append(File)\n",
    "l"
   ]
  },
  {
   "cell_type": "markdown",
   "id": "b59c8224",
   "metadata": {},
   "source": [
    "# Read the *.pdf files one by one and then analyze the content"
   ]
  },
  {
   "cell_type": "code",
   "execution_count": 5,
   "id": "68bbdffb",
   "metadata": {},
   "outputs": [
    {
     "data": {
      "text/plain": [
       "[\"**NITESH KUMAR**  \\nE-mail: nitesh_kumar977@yahoo.co.in  \\nPhone No.: +91-9990070261  \\n\\n[Date]  \\n\\n[Employer's Name]  \\n[Company's Name]  \\n[Company's Address Line 1]  \\n[Company's Address Line 2]  \\n[City, State, Zip]  \\n\\nDear [Employer's Name or Hiring Manager],  \\n\\nI hope this letter finds you well. My name is Nitesh Kumar, an experienced and highly motivated Engineer and MBA professional with a diverse background in analytics, business intelligence, data visualization, data science, AI/ML, and business strategy. With an extensive career spanning multiple domains—Healthcare, Telecom, Information Technology, and Industrial Automation—I am eager to bring my skills and expertise to opportunities within your organization.\\n\\nThroughout my career, I have demonstrated the ability to adapt and excel in various environments, ranging from established process-oriented organizations to agile startup ecosystems. My experience encompasses a broad spectrum of functions, including stakeholder management, budgeting, product marketing, and commercial excellence. I have successfully collaborated with CXOs across India and APAC on strategic initiatives related to pricing, business analytics, and new product development, consistently delivering results that enhance revenue and drive operational efficiency.\\n\\nI have a proven track record of innovation and excellence, having worked closely with consulting firms such as McKinsey and Frost & Sullivan on key strategic projects. My roles have allowed me to contribute significantly as both an individual contributor and team manager, leading initiatives that span business intelligence, market communication, pre-sales, and product management.\\n\\nIn my current position at Healthians, a growing health tech startup, I have honed my skills in analytics and data-driven decision-making, which are essential for steering business growth in today's competitive landscape. My previous roles at Vodafone Idea Ltd, Tata Teleservices, Oracle, and Rockwell Automation have further enriched my professional journey and enhanced my adaptability across diverse industries.\\n\\nIn addition to my professional endeavors, I am passionate about automobiles and run my own website, [www.cars-speak.in](http://www.cars-speak.in), where I conduct unbiased reviews of vehicles to engage consumers and influence their purchasing decisions.\\n\\nSome key skills that I bring to the table include:\\n\\n- Strong business strategy formulation and execution\\n- Advanced analytics proficiency, including business and pricing analytics\\n- Expertise in customer lifecycle management and team development\\n- Technical competence in data science, machine learning, and advanced data visualization tools\\n\\n**Educational Background:**  \\n- PGDM (Full Time) in Marketing & International Business from Amity Business School, Noida  \\n- B.Tech with Honors in Electronics & Instrumentation from Kurukshetra University (Rank holder in the top three during multiple semesters)  \\n\\nI am excited about the opportunity to connect with professionals who share my commitment to driving business success through innovative strategies and data-informed decision-making. Thank you for considering my application. I look forward to the possibility of discussing how my background, skills, and enthusiasms can contribute to the success of your team. \\n\\nWarm regards,  \\nNitesh Kumar  \\n\\n---\\n\\n[Optional: Attach Resume or Portfolio]  \\n[LinkedIn Profile URL] (if applicable)\"]"
      ]
     },
     "execution_count": 5,
     "metadata": {},
     "output_type": "execute_result"
    }
   ],
   "source": [
    "import openai\n",
    "import PyPDF2\n",
    "from openai import OpenAI\n",
    "##from config import OPENAI_API_KEY\n",
    "\n",
    "# Initialize OpenAI API\n",
    "openai.api_key = 'open_API_key'\n",
    "\n",
    "def extract_text_from_pdf(pdf_path):\n",
    "    with open(pdf_path, 'rb') as file:\n",
    "        reader = PyPDF2.PdfReader(file)\n",
    "        totalPages = len(reader.pages)\n",
    "        text = ''\n",
    "        for page_num in range(0, totalPages):\n",
    "            page = reader.pages[page_num]\n",
    "            text += page.extract_text()\n",
    "    return text\n",
    "\n",
    "def analyze_pdf_content(pdf_text):\n",
    "    response = openai.chat.completions.create(\n",
    "            model=\"gpt-4o-mini\",\n",
    "        \n",
    "        messages=[\n",
    "\n",
    "            \n",
    "            \n",
    "    {\n",
    "              \"role\": \"user\",\n",
    "              \"content\":  f\"Provide a customized impressive professional ATS friendly Cover Letter covering complete details in the optimized best suitable template. Add line breaks and paragraph changes as appropriate.The cover letter need not be for a specific position in any organization but a general one which can go along witj resume\" + pdf_text,               \n",
    "            }\n",
    "          ],\n",
    "        max_tokens=5000\n",
    "    )\n",
    "    return response.choices[0].message.content\n",
    "\n",
    "# Example usage\n",
    "executive_summary = []\n",
    "if __name__ == \"__main__\":\n",
    "    for pdf_path in l:\n",
    "        #pdf_path = 'Resume - Nitesh Kumar.pdf'  # Replace with your PDF file path\n",
    "        pdf_text = extract_text_from_pdf(pdf_path)\n",
    "        analysis = analyze_pdf_content(pdf_text)\n",
    "        executive_summary.append(analysis)\n",
    "        ##print(\"PDF Analysis:\")\n",
    "        ##print(analysis)\n",
    "\n",
    "executive_summary\n"
   ]
  },
  {
   "cell_type": "code",
   "execution_count": 7,
   "id": "4067fa7b",
   "metadata": {},
   "outputs": [
    {
     "ename": "NameError",
     "evalue": "name 'resume_analysis' is not defined",
     "output_type": "error",
     "traceback": [
      "\u001b[1;31m---------------------------------------------------------------------------\u001b[0m",
      "\u001b[1;31mNameError\u001b[0m                                 Traceback (most recent call last)",
      "Cell \u001b[1;32mIn[7], line 1\u001b[0m\n\u001b[1;32m----> 1\u001b[0m resume_analysis\u001b[38;5;241m.\u001b[39mto_csv(\u001b[38;5;124m'\u001b[39m\u001b[38;5;124mresume_analysis.csv\u001b[39m\u001b[38;5;124m'\u001b[39m)\n",
      "\u001b[1;31mNameError\u001b[0m: name 'resume_analysis' is not defined"
     ]
    }
   ],
   "source": [
    "resume_analysis.to_csv('resume_analysis.csv')"
   ]
  },
  {
   "cell_type": "code",
   "execution_count": null,
   "id": "21fac63e",
   "metadata": {
    "scrolled": true
   },
   "outputs": [],
   "source": [
    "type(response_string)"
   ]
  },
  {
   "cell_type": "code",
   "execution_count": null,
   "id": "f7fbcdf7",
   "metadata": {},
   "outputs": [],
   "source": []
  }
 ],
 "metadata": {
  "kernelspec": {
   "display_name": "Python 3 (ipykernel)",
   "language": "python",
   "name": "python3"
  },
  "language_info": {
   "codemirror_mode": {
    "name": "ipython",
    "version": 3
   },
   "file_extension": ".py",
   "mimetype": "text/x-python",
   "name": "python",
   "nbconvert_exporter": "python",
   "pygments_lexer": "ipython3",
   "version": "3.11.4"
  }
 },
 "nbformat": 4,
 "nbformat_minor": 5
}

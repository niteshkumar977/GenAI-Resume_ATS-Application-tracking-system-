{
 "cells": [
  {
   "cell_type": "markdown",
   "id": "65644846",
   "metadata": {},
   "source": [
    "# GETTING TO THE RIGHT DIRECTORY"
   ]
  },
  {
   "cell_type": "code",
   "execution_count": 1,
   "id": "414ac52e",
   "metadata": {},
   "outputs": [
    {
     "name": "stdout",
     "output_type": "stream",
     "text": [
      "D:\\Personal\\Resume\\Resumes - different tracks\\General\\resume - ATS fiendly project\n"
     ]
    }
   ],
   "source": [
    "##mypath = %cd D:\\Personal\\Resume\\testing for genAI\n",
    "mypath = %cd D:\\Personal\\Resume\\Resumes - different tracks\\General\\resume - ATS fiendly project"
   ]
  },
  {
   "cell_type": "code",
   "execution_count": 2,
   "id": "dd337b75",
   "metadata": {},
   "outputs": [],
   "source": [
    "#pip install PyPDF2"
   ]
  },
  {
   "cell_type": "markdown",
   "id": "972e59b2",
   "metadata": {},
   "source": [
    "# Get the files with*.pdf extension from the folder"
   ]
  },
  {
   "cell_type": "code",
   "execution_count": 3,
   "id": "8b65383f",
   "metadata": {},
   "outputs": [
    {
     "data": {
      "text/plain": [
       "['Resume - Nitesh Kumar.pdf']"
      ]
     },
     "execution_count": 3,
     "metadata": {},
     "output_type": "execute_result"
    }
   ],
   "source": [
    "import os \n",
    "\n",
    "l = []\n",
    "for File in os.listdir(\".\"): \n",
    "    if File.endswith(\".pdf\"): \n",
    "        l.append(File)\n",
    "l"
   ]
  },
  {
   "cell_type": "markdown",
   "id": "b59c8224",
   "metadata": {},
   "source": [
    "# Read the *.pdf files one by one and then analyze the content"
   ]
  },
  {
   "cell_type": "code",
   "execution_count": 14,
   "id": "68bbdffb",
   "metadata": {},
   "outputs": [
    {
     "data": {
      "text/plain": [
       "[\"Subject: Seeking Opportunities within Your Network\\n\\nHi [Connection’s Name],\\n\\nI hope this message finds you well! I’m Nitesh Kumar, currently the VP of Business Intelligence at Healthians, with a rich background in analytics and strategy across telecom and healthcare. I'm keen to explore job openings in your organization that align with my expertise. I'd love to connect and discuss any potential opportunities.\\n\\nBest,  \\nNitesh\"]"
      ]
     },
     "execution_count": 14,
     "metadata": {},
     "output_type": "execute_result"
    }
   ],
   "source": [
    "import openai\n",
    "import PyPDF2\n",
    "from openai import OpenAI\n",
    "##from config import OPENAI_API_KEY\n",
    "\n",
    "# Initialize OpenAI API\n",
    "openai.api_key = 'open_API_key'\n",
    "\n",
    "def extract_text_from_pdf(pdf_path):\n",
    "    with open(pdf_path, 'rb') as file:\n",
    "        reader = PyPDF2.PdfReader(file)\n",
    "        totalPages = len(reader.pages)\n",
    "        text = ''\n",
    "        for page_num in range(0, totalPages):\n",
    "            page = reader.pages[page_num]\n",
    "            text += page.extract_text()\n",
    "    return text\n",
    "\n",
    "def analyze_pdf_content(pdf_text):\n",
    "    response = openai.chat.completions.create(\n",
    "            model=\"gpt-4o-mini\",\n",
    "        \n",
    "        messages=[\n",
    "\n",
    "            \n",
    "            \n",
    "    {\n",
    "              \"role\": \"user\",\n",
    "              \"content\":  f\"Create a relevant impressive professional 300 charcters introduction message to a connection on linkedin seeking suitable job roles in their organizations\" + pdf_text,               \n",
    "            }\n",
    "          ],\n",
    "        max_tokens=5000\n",
    "    )\n",
    "    return response.choices[0].message.content\n",
    "\n",
    "# Example usage\n",
    "executive_summary = []\n",
    "if __name__ == \"__main__\":\n",
    "    for pdf_path in l:\n",
    "        #pdf_path = 'Resume - Nitesh Kumar.pdf'  # Replace with your PDF file path\n",
    "        pdf_text = extract_text_from_pdf(pdf_path)\n",
    "        analysis = analyze_pdf_content(pdf_text)\n",
    "        executive_summary.append(analysis)\n",
    "        ##print(\"PDF Analysis:\")\n",
    "        ##print(analysis)\n",
    "\n",
    "executive_summary\n"
   ]
  },
  {
   "cell_type": "code",
   "execution_count": 7,
   "id": "4067fa7b",
   "metadata": {},
   "outputs": [
    {
     "ename": "NameError",
     "evalue": "name 'resume_analysis' is not defined",
     "output_type": "error",
     "traceback": [
      "\u001b[1;31m---------------------------------------------------------------------------\u001b[0m",
      "\u001b[1;31mNameError\u001b[0m                                 Traceback (most recent call last)",
      "Cell \u001b[1;32mIn[7], line 1\u001b[0m\n\u001b[1;32m----> 1\u001b[0m resume_analysis\u001b[38;5;241m.\u001b[39mto_csv(\u001b[38;5;124m'\u001b[39m\u001b[38;5;124mresume_analysis.csv\u001b[39m\u001b[38;5;124m'\u001b[39m)\n",
      "\u001b[1;31mNameError\u001b[0m: name 'resume_analysis' is not defined"
     ]
    }
   ],
   "source": [
    "resume_analysis.to_csv('resume_analysis.csv')"
   ]
  },
  {
   "cell_type": "code",
   "execution_count": null,
   "id": "21fac63e",
   "metadata": {
    "scrolled": true
   },
   "outputs": [],
   "source": [
    "type(response_string)"
   ]
  },
  {
   "cell_type": "code",
   "execution_count": null,
   "id": "f7fbcdf7",
   "metadata": {},
   "outputs": [],
   "source": []
  }
 ],
 "metadata": {
  "kernelspec": {
   "display_name": "Python 3 (ipykernel)",
   "language": "python",
   "name": "python3"
  },
  "language_info": {
   "codemirror_mode": {
    "name": "ipython",
    "version": 3
   },
   "file_extension": ".py",
   "mimetype": "text/x-python",
   "name": "python",
   "nbconvert_exporter": "python",
   "pygments_lexer": "ipython3",
   "version": "3.11.4"
  }
 },
 "nbformat": 4,
 "nbformat_minor": 5
}

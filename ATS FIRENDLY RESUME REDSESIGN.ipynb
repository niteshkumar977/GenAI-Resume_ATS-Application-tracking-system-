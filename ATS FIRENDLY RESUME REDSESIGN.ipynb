{
 "cells": [
  {
   "cell_type": "markdown",
   "id": "65644846",
   "metadata": {},
   "source": [
    "# GETTING TO THE RIGHT DIRECTORY"
   ]
  },
  {
   "cell_type": "code",
   "execution_count": 1,
   "id": "414ac52e",
   "metadata": {},
   "outputs": [
    {
     "name": "stdout",
     "output_type": "stream",
     "text": [
      "D:\\Personal\\Resume\\Resumes - different tracks\\General\n"
     ]
    }
   ],
   "source": [
    "##mypath = %cd D:\\Personal\\Resume\\testing for genAI\n",
    "mypath = %cd D:\\Personal\\Resume\\Resumes - different tracks\\General"
   ]
  },
  {
   "cell_type": "code",
   "execution_count": 2,
   "id": "dd337b75",
   "metadata": {},
   "outputs": [],
   "source": [
    "#pip install PyPDF2"
   ]
  },
  {
   "cell_type": "markdown",
   "id": "972e59b2",
   "metadata": {},
   "source": [
    "# Get the files with*.pdf extension from the folder"
   ]
  },
  {
   "cell_type": "code",
   "execution_count": 3,
   "id": "8b65383f",
   "metadata": {},
   "outputs": [
    {
     "data": {
      "text/plain": [
       "['Resume - Nitesh Kumar.pdf']"
      ]
     },
     "execution_count": 3,
     "metadata": {},
     "output_type": "execute_result"
    }
   ],
   "source": [
    "import os \n",
    "\n",
    "l = []\n",
    "for File in os.listdir(\".\"): \n",
    "    if File.endswith(\".pdf\"): \n",
    "        l.append(File)\n",
    "l"
   ]
  },
  {
   "cell_type": "markdown",
   "id": "b59c8224",
   "metadata": {},
   "source": [
    "# Read the *.pdf files one by one and then analyze the content"
   ]
  },
  {
   "cell_type": "code",
   "execution_count": 6,
   "id": "68bbdffb",
   "metadata": {},
   "outputs": [
    {
     "data": {
      "text/plain": [
       "[\"Here's a tailored ATS-friendly resume for Nitesh Kumar, focusing on key achievements and skills in data analytics, business intelligence, data science, pricing, and product marketing. \\n\\n---\\n\\n**NITESH KUMAR**  \\nHouse No.: 977, Sector -9, Faridabad – 121006  \\nEmail: nitesh_kumar977@yahoo.co.in  \\nPhone: +91-9990070261\\n\\n---\\n\\n### PROFESSIONAL SUMMARY\\n\\nExperienced data analytics and business intelligence professional with over 15 years of rich experience across the healthcare, telecom, and industrial automation industries. Proven expertise in driving data-driven decision-making and business excellence through strategic analysis, product pricing, and marketing initiatives. Demonstrated success in enhancing organizational growth by leveraging advanced analytics and delivering actionable insights to senior leadership. Proven ability to work collaboratively across cross-functional teams and lead diverse initiatives to optimize performance metrics and revenue growth.\\n\\n---\\n\\n### KEY SKILLS & COMPETENCIES\\n\\n- **Business Intelligence & Analytics**: MySQL, Python, Advanced Excel (including VBA), Data Visualization (Metabase), Machine Learning.\\n- **Product Management & Marketing**: Product Lifecycle Management, Competitive Benchmarking, GTM Strategy, Customer Segmentation.\\n- **Data Science Applications**: Expertise in K-Means Clustering, Natural Language Processing (NLP), Predictive Analytics.\\n- **Performance Tracking & Optimization**: KPIs Monitoring, Revenue Management, Digital Marketing Analytics, Cost Reduction Strategies.\\n- **Cross-Functional Collaboration**: Stakeholder Engagement, Team Leadership, Project Management, Strategy Development.\\n- **Technical Proficiencies**: AWS (S3, Glue, IAM, Redshift), Generative AI, Reporting Automation.\\n\\n---\\n\\n### PROFESSIONAL EXPERIENCE\\n\\n**Healthians** (Healthcare Diagnostics Company)  \\n**Vice President - Business Intelligence**  \\n_Oct 2023 - Present_  \\n- Leading a team of 5, focusing on strategic initiatives and operational excellence.\\n- Established analytics systems driving a 10X revenue growth over 5 years by streamlining operational processes and implementing data-driven decision-making.\\n- Developed a standardized and automated P&L tracking system using Python and MySQL, reducing preparation time from 4 hours to 30 minutes. \\n\\n**Assistant Vice President - Business Intelligence**  \\n_Jul 2020 - Sep 2023_  \\n- Managed comprehensive analytics for sales, marketing, and operations, resulting in optimized ROI/ROAS on digital campaigns.\\n- Created a customer segmentation model using K-Means Clustering, improving conversion rates from 60% to 75%.\\n- Introduced an intelligent recommendation engine, enhancing the product fit and customer satisfaction metrics.\\n\\n---\\n\\n**Vodafone Idea Limited**  \\n**Lead - Product Marketing**  \\n_Apr 2017 - Oct 2018_  \\n- Managed an annual revenue of Rs 2.5 Bn, implementing strategic budget allocations and customer lifecycle enhancements.\\n- Launched incentive programs and campaigns, resulting in improved customer engagement and retention rates.\\n- Enhanced product visibility and sales penetration through analytical models and effective go-to-market strategies.\\n\\n**Senior Manager - Strategy & Planning**  \\n_Apr 2015 - Mar 2017_  \\n- Provided crucial insights through performance tracking of KPIs, supporting strategic decision-making with data-backed reports.\\n- Achieved vendor cost reduction from Rs 23 Cr/month to 1 Cr/month through operational efficiencies.\\n\\n---\\n\\n**Tata Teleservices Ltd**  \\n**Lead - Market Planning & Business Insights**  \\n_Jul 2014 - Mar 2015_  \\n- Drove business insights through KPI tracking across channels, enhancing performance visibility.\\n- Contributed to successful product rollouts and channel strategies through detailed market analysis.\\n\\n**Channel Marketing Manager / Product Marketing Manager**  \\n_Jun 2013 - Jun 2014 / Jun 2011 - May 2013_  \\n- Spearheaded product development initiatives based on consumer and market needs, achieving significant revenue growth.\\n\\n---\\n\\n**Oracle India Pvt. Limited**  \\n**Business Analyst**  \\n_Apr 2008 - Jan 2010_  \\n- Transformed reporting processes from Excel to BI dashboards, significantly improving data accessibility for management.\\n\\n---\\n\\n**Rockwell Automation India Pvt. Limited**  \\n**Business Analyst**  \\n_Apr 2005 - Mar 2008_  \\n- Developed sales force automation systems that streamlined lead tracking and improved sales performance.\\n\\n---\\n\\n**EDUCATIONAL CREDENTIALS**\\n\\n- **PGDM** - Marketing and International Business (Full Time), Amity Business School, Noida, 2004 | CGPA: 7.59\\n- **B. Tech.** - Electronics & Instrumentation, Kurukshetra University, 2002 | 71.9% (3rd rank in University during specific semesters)\\n\\n---\\n\\n**TRAINING & DEVELOPMENT**\\n\\n- Certified Data Scientist (Python) - AnalytixLabs\\n- Fundamentals of Digital Marketing - Google Digital Garage\\n- Generative AI using OpenAI API - Udemy\\n\\n---\\n\\n**ADDITIONAL INFORMATION**\\n\\n- Developed a similarity search NLP model, reducing test mapping time from >72 hours to 30 minutes.\\n- Project lead for outsourcing call center partnerships with measurable performance improvements.\\n\\n---\\n\\nThis resume emphasizes key achievements and responsibilities in your various roles and is structured for easy reading and keyword optimization. Adjust the format according to your specific application platform as needed.\"]"
      ]
     },
     "execution_count": 6,
     "metadata": {},
     "output_type": "execute_result"
    }
   ],
   "source": [
    "import openai\n",
    "import PyPDF2\n",
    "from openai import OpenAI\n",
    "##from config import OPENAI_API_KEY\n",
    "\n",
    "# Initialize OpenAI API\n",
    "openai.api_key = 'open_API_key'\n",
    "\n",
    "def extract_text_from_pdf(pdf_path):\n",
    "    with open(pdf_path, 'rb') as file:\n",
    "        reader = PyPDF2.PdfReader(file)\n",
    "        totalPages = len(reader.pages)\n",
    "        text = ''\n",
    "        for page_num in range(0, totalPages):\n",
    "            page = reader.pages[page_num]\n",
    "            text += page.extract_text()\n",
    "    return text\n",
    "\n",
    "def analyze_pdf_content(pdf_text):\n",
    "    response = openai.chat.completions.create(\n",
    "            model=\"gpt-4o-mini\",\n",
    "        \n",
    "        messages=[\n",
    "\n",
    "            \n",
    "            \n",
    "    {\n",
    "              \"role\": \"user\",\n",
    "              \"content\":  f\"Provide a customized impressive ATS friendly resume of 2.5 pages covering complete details in the optimized best suitable template.Incorporate key achievements in each role emphasizing data analytics,Business Intelligence, data science,pricing,product marketing responsibilities and achievements \" + pdf_text,               \n",
    "            }\n",
    "          ],\n",
    "        max_tokens=5000\n",
    "    )\n",
    "    return response.choices[0].message.content\n",
    "\n",
    "# Example usage\n",
    "executive_summary = []\n",
    "if __name__ == \"__main__\":\n",
    "    for pdf_path in l:\n",
    "        #pdf_path = 'Resume - Nitesh Kumar.pdf'  # Replace with your PDF file path\n",
    "        pdf_text = extract_text_from_pdf(pdf_path)\n",
    "        analysis = analyze_pdf_content(pdf_text)\n",
    "        executive_summary.append(analysis)\n",
    "        ##print(\"PDF Analysis:\")\n",
    "        ##print(analysis)\n",
    "\n",
    "executive_summary\n"
   ]
  },
  {
   "cell_type": "code",
   "execution_count": 7,
   "id": "4067fa7b",
   "metadata": {},
   "outputs": [
    {
     "ename": "NameError",
     "evalue": "name 'resume_analysis' is not defined",
     "output_type": "error",
     "traceback": [
      "\u001b[1;31m---------------------------------------------------------------------------\u001b[0m",
      "\u001b[1;31mNameError\u001b[0m                                 Traceback (most recent call last)",
      "Cell \u001b[1;32mIn[7], line 1\u001b[0m\n\u001b[1;32m----> 1\u001b[0m resume_analysis\u001b[38;5;241m.\u001b[39mto_csv(\u001b[38;5;124m'\u001b[39m\u001b[38;5;124mresume_analysis.csv\u001b[39m\u001b[38;5;124m'\u001b[39m)\n",
      "\u001b[1;31mNameError\u001b[0m: name 'resume_analysis' is not defined"
     ]
    }
   ],
   "source": [
    "resume_analysis.to_csv('resume_analysis.csv')"
   ]
  },
  {
   "cell_type": "code",
   "execution_count": null,
   "id": "21fac63e",
   "metadata": {
    "scrolled": true
   },
   "outputs": [],
   "source": [
    "type(response_string)"
   ]
  },
  {
   "cell_type": "code",
   "execution_count": null,
   "id": "f7fbcdf7",
   "metadata": {},
   "outputs": [],
   "source": []
  }
 ],
 "metadata": {
  "kernelspec": {
   "display_name": "Python 3 (ipykernel)",
   "language": "python",
   "name": "python3"
  },
  "language_info": {
   "codemirror_mode": {
    "name": "ipython",
    "version": 3
   },
   "file_extension": ".py",
   "mimetype": "text/x-python",
   "name": "python",
   "nbconvert_exporter": "python",
   "pygments_lexer": "ipython3",
   "version": "3.11.4"
  }
 },
 "nbformat": 4,
 "nbformat_minor": 5
}
